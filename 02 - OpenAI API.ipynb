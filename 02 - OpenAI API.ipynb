{
 "cells": [
  {
   "metadata": {},
   "cell_type": "markdown",
   "source": "Read: https://platform.openai.com/docs/quickstart",
   "id": "b1d3b7c60cf0b96e"
  },
  {
   "metadata": {
    "ExecuteTime": {
     "end_time": "2024-07-08T02:51:36.383749Z",
     "start_time": "2024-07-08T02:51:33.902943Z"
    }
   },
   "cell_type": "code",
   "source": [
    "from openai import OpenAI\n",
    "from sk import my_sk\n",
    "\n",
    "client = OpenAI(api_key=my_sk)\n",
    "\n",
    "# First API Call\n",
    "completion = client.chat.completions.create(\n",
    "  model=\"gpt-3.5-turbo\",\n",
    "  messages=[\n",
    "    {\"role\": \"user\", \"content\": \"Listen to your\"}\n",
    "  ]\n",
    ")\n",
    "\n",
    "result = completion.to_dict()"
   ],
   "id": "66d07190d558cd81",
   "outputs": [],
   "execution_count": 24
  },
  {
   "metadata": {
    "ExecuteTime": {
     "end_time": "2024-07-08T02:51:43.090220Z",
     "start_time": "2024-07-08T02:51:43.083391Z"
    }
   },
   "cell_type": "code",
   "source": "result",
   "id": "5181e02bfd1d7d4c",
   "outputs": [
    {
     "data": {
      "text/plain": [
       "{'id': 'chatcmpl-9iYlTfom0jfHPjyuKKZqmsVkgmdKq',\n",
       " 'choices': [{'finish_reason': 'stop',\n",
       "   'index': 0,\n",
       "   'logprobs': None,\n",
       "   'message': {'content': 'heart, it knows the way. Trust your instincts and follow your passions. Stay true to yourself and never compromise your values. Remember that you are capable of achieving great things and always believe in yourself. Trust the process and have faith in the journey ahead. Take risks, be bold, and embrace the unknown. Stay positive, stay focused, and never give up on your dreams. Your heart will guide you towards your true purpose, so listen to it and let it lead the way.',\n",
       "    'role': 'assistant'}}],\n",
       " 'created': 1720407095,\n",
       " 'model': 'gpt-3.5-turbo-0125',\n",
       " 'object': 'chat.completion',\n",
       " 'system_fingerprint': None,\n",
       " 'usage': {'completion_tokens': 97, 'prompt_tokens': 10, 'total_tokens': 107}}"
      ]
     },
     "execution_count": 25,
     "metadata": {},
     "output_type": "execute_result"
    }
   ],
   "execution_count": 25
  },
  {
   "metadata": {
    "ExecuteTime": {
     "end_time": "2024-07-08T02:53:35.816176Z",
     "start_time": "2024-07-08T02:53:35.811959Z"
    }
   },
   "cell_type": "code",
   "source": "print(\"Content ==> %s\" % result['choices'][0]['message']['content'])",
   "id": "2dda2b0526ef3085",
   "outputs": [
    {
     "name": "stdout",
     "output_type": "stream",
     "text": [
      "Content ==> heart, it knows the way. Trust your instincts and follow your passions. Stay true to yourself and never compromise your values. Remember that you are capable of achieving great things and always believe in yourself. Trust the process and have faith in the journey ahead. Take risks, be bold, and embrace the unknown. Stay positive, stay focused, and never give up on your dreams. Your heart will guide you towards your true purpose, so listen to it and let it lead the way.\n"
     ]
    }
   ],
   "execution_count": 35
  },
  {
   "metadata": {
    "ExecuteTime": {
     "end_time": "2024-07-08T02:54:19.511326Z",
     "start_time": "2024-07-08T02:54:18.538668Z"
    }
   },
   "cell_type": "code",
   "source": [
    "# Second API Call (max_tokens parameter)\n",
    "completion = client.chat.completions.create(\n",
    "  model=\"gpt-3.5-turbo\",\n",
    "  messages=[\n",
    "    {\"role\": \"user\", \"content\": \"Listen to your\"}\n",
    "  ],\n",
    "  max_tokens=5\n",
    ")\n",
    "\n",
    "result = completion.to_dict()"
   ],
   "id": "560fdc42bde2b9b6",
   "outputs": [],
   "execution_count": 36
  },
  {
   "metadata": {
    "ExecuteTime": {
     "end_time": "2024-07-08T02:54:25.064832Z",
     "start_time": "2024-07-08T02:54:25.059361Z"
    }
   },
   "cell_type": "code",
   "source": "result",
   "id": "f6636bf7f6cd78b3",
   "outputs": [
    {
     "data": {
      "text/plain": [
       "{'id': 'chatcmpl-9iYo7bzb1e05EZgHehhMzYtcY1rVi',\n",
       " 'choices': [{'finish_reason': 'length',\n",
       "   'index': 0,\n",
       "   'logprobs': None,\n",
       "   'message': {'content': ' heart and trust your intuition',\n",
       "    'role': 'assistant'}}],\n",
       " 'created': 1720407259,\n",
       " 'model': 'gpt-3.5-turbo-0125',\n",
       " 'object': 'chat.completion',\n",
       " 'system_fingerprint': None,\n",
       " 'usage': {'completion_tokens': 5, 'prompt_tokens': 10, 'total_tokens': 15}}"
      ]
     },
     "execution_count": 37,
     "metadata": {},
     "output_type": "execute_result"
    }
   ],
   "execution_count": 37
  },
  {
   "metadata": {
    "ExecuteTime": {
     "end_time": "2024-07-08T02:55:41.564921Z",
     "start_time": "2024-07-08T02:55:40.629533Z"
    }
   },
   "cell_type": "code",
   "source": [
    "# Third API Call (n parameter)\n",
    "completion = client.chat.completions.create(\n",
    "  model=\"gpt-3.5-turbo\",\n",
    "  messages=[\n",
    "    {\"role\": \"user\", \"content\": \"Listen to your\"}\n",
    "  ],\n",
    "  max_tokens=1,\n",
    "  n=5\n",
    ")\n",
    "\n",
    "result = completion.to_dict()"
   ],
   "id": "be6e50a67f017973",
   "outputs": [],
   "execution_count": 38
  },
  {
   "metadata": {
    "ExecuteTime": {
     "end_time": "2024-07-08T02:55:43.351434Z",
     "start_time": "2024-07-08T02:55:43.343943Z"
    }
   },
   "cell_type": "code",
   "source": "result",
   "id": "d1189e25ea99cb08",
   "outputs": [
    {
     "data": {
      "text/plain": [
       "{'id': 'chatcmpl-9iYpRY2kMiYb9idFKEEsHFDQkBZSr',\n",
       " 'choices': [{'finish_reason': 'length',\n",
       "   'index': 0,\n",
       "   'logprobs': None,\n",
       "   'message': {'content': ' heart', 'role': 'assistant'}},\n",
       "  {'finish_reason': 'length',\n",
       "   'index': 1,\n",
       "   'logprobs': None,\n",
       "   'message': {'content': ' inner', 'role': 'assistant'}},\n",
       "  {'finish_reason': 'length',\n",
       "   'index': 2,\n",
       "   'logprobs': None,\n",
       "   'message': {'content': ' inner', 'role': 'assistant'}},\n",
       "  {'finish_reason': 'length',\n",
       "   'index': 3,\n",
       "   'logprobs': None,\n",
       "   'message': {'content': ' inner', 'role': 'assistant'}},\n",
       "  {'finish_reason': 'length',\n",
       "   'index': 4,\n",
       "   'logprobs': None,\n",
       "   'message': {'content': ' heart', 'role': 'assistant'}}],\n",
       " 'created': 1720407341,\n",
       " 'model': 'gpt-3.5-turbo-0125',\n",
       " 'object': 'chat.completion',\n",
       " 'system_fingerprint': None,\n",
       " 'usage': {'completion_tokens': 5, 'prompt_tokens': 10, 'total_tokens': 15}}"
      ]
     },
     "execution_count": 39,
     "metadata": {},
     "output_type": "execute_result"
    }
   ],
   "execution_count": 39
  },
  {
   "metadata": {
    "ExecuteTime": {
     "end_time": "2024-07-08T03:09:12.576030Z",
     "start_time": "2024-07-08T03:09:10.569286Z"
    }
   },
   "cell_type": "code",
   "source": [
    "# Fourth API Call (temperature parameter)\n",
    "completion = client.chat.completions.create(\n",
    "  model=\"gpt-3.5-turbo\",\n",
    "  messages=[\n",
    "    {\"role\": \"user\", \"content\": \"Listen to your\"}\n",
    "  ],\n",
    "  temperature=0\n",
    ")\n",
    "\n",
    "result = completion.to_dict()"
   ],
   "id": "ef1db9adba95dd5a",
   "outputs": [],
   "execution_count": 46
  },
  {
   "metadata": {
    "ExecuteTime": {
     "end_time": "2024-07-08T03:09:36.601260Z",
     "start_time": "2024-07-08T03:09:36.593883Z"
    }
   },
   "cell_type": "code",
   "source": "result",
   "id": "aeadb10e3cf77896",
   "outputs": [
    {
     "data": {
      "text/plain": [
       "{'id': 'chatcmpl-9iZ2VyHtiqWnEj5YJaCnXXubTxd9I',\n",
       " 'choices': [{'finish_reason': 'stop',\n",
       "   'index': 0,\n",
       "   'logprobs': None,\n",
       "   'message': {'content': \"heart, it knows what is best for you. Trust your instincts and follow your intuition. Don't let fear or doubt hold you back from pursuing your dreams and goals. Stay true to yourself and listen to the inner voice that guides you towards happiness and fulfillment. Trust in your own wisdom and have faith in your abilities to overcome any challenges that come your way. Remember, you are capable of achieving great things when you listen to your heart and follow your passions.\",\n",
       "    'role': 'assistant'}}],\n",
       " 'created': 1720408151,\n",
       " 'model': 'gpt-3.5-turbo-0125',\n",
       " 'object': 'chat.completion',\n",
       " 'system_fingerprint': None,\n",
       " 'usage': {'completion_tokens': 92, 'prompt_tokens': 10, 'total_tokens': 102}}"
      ]
     },
     "execution_count": 47,
     "metadata": {},
     "output_type": "execute_result"
    }
   ],
   "execution_count": 47
  },
  {
   "metadata": {},
   "cell_type": "markdown",
   "source": [
    "---\n",
    "# Multi Message"
   ],
   "id": "87e36c4dc98f6253"
  },
  {
   "metadata": {
    "ExecuteTime": {
     "end_time": "2024-07-08T03:17:39.834789Z",
     "start_time": "2024-07-08T03:17:39.145878Z"
    }
   },
   "cell_type": "code",
   "source": [
    "# initial prompt with system message and 2 task examples\n",
    "messages_list = [{\"role\":\"system\", \"content\": \"I am Roxette lyric completion assistant. When given a line from a song, I will provide the next line in the song.\"},\n",
    "                 {\"role\":\"user\", \"content\": \"I know there's something in the wake of your smile\"},\n",
    "                 {\"role\":\"assistant\", \"content\": \"I get a notion from the look in your eyes, yeah\"},\n",
    "                 {\"role\":\"user\", \"content\": \"You've built a love but that love falls apart\"},\n",
    "                 {\"role\":\"assistant\", \"content\": \"Your little piece of Heaven turns too dark\"},\n",
    "                 {\"role\":\"user\", \"content\": \"Listen to your\"}]\n",
    "\n",
    "# Fifth API Call (temperature parameter)\n",
    "completion = client.chat.completions.create(\n",
    "  model=\"gpt-3.5-turbo\",\n",
    "  messages=messages_list,\n",
    "  max_tokens=20,\n",
    "  temperature=0\n",
    ")\n",
    "\n",
    "result = completion.to_dict()"
   ],
   "id": "e2b775f725553f91",
   "outputs": [],
   "execution_count": 53
  },
  {
   "metadata": {
    "ExecuteTime": {
     "end_time": "2024-07-08T03:17:41.746963Z",
     "start_time": "2024-07-08T03:17:41.740865Z"
    }
   },
   "cell_type": "code",
   "source": "result",
   "id": "c4251ff058b9e4e3",
   "outputs": [
    {
     "data": {
      "text/plain": [
       "{'id': 'chatcmpl-9iZAhgFyHMSw6CYG5CPDtl7krWVAn',\n",
       " 'choices': [{'finish_reason': 'stop',\n",
       "   'index': 0,\n",
       "   'logprobs': None,\n",
       "   'message': {'content': \"Heart when he's calling for you\",\n",
       "    'role': 'assistant'}}],\n",
       " 'created': 1720408659,\n",
       " 'model': 'gpt-3.5-turbo-0125',\n",
       " 'object': 'chat.completion',\n",
       " 'system_fingerprint': None,\n",
       " 'usage': {'completion_tokens': 7, 'prompt_tokens': 97, 'total_tokens': 104}}"
      ]
     },
     "execution_count": 54,
     "metadata": {},
     "output_type": "execute_result"
    }
   ],
   "execution_count": 54
  },
  {
   "metadata": {},
   "cell_type": "code",
   "outputs": [],
   "execution_count": null,
   "source": "",
   "id": "bd8887ae43fdfbb3"
  }
 ],
 "metadata": {
  "kernelspec": {
   "display_name": "Python 3",
   "language": "python",
   "name": "python3"
  },
  "language_info": {
   "codemirror_mode": {
    "name": "ipython",
    "version": 2
   },
   "file_extension": ".py",
   "mimetype": "text/x-python",
   "name": "python",
   "nbconvert_exporter": "python",
   "pygments_lexer": "ipython2",
   "version": "2.7.6"
  }
 },
 "nbformat": 4,
 "nbformat_minor": 5
}
