{
 "cells": [
  {
   "metadata": {},
   "cell_type": "markdown",
   "source": "# Gradio - Vanilla Chatbot",
   "id": "8ccd18a13a11022a"
  },
  {
   "metadata": {
    "ExecuteTime": {
     "end_time": "2024-07-08T08:59:59.793639Z",
     "start_time": "2024-07-08T08:59:53.546975Z"
    }
   },
   "cell_type": "code",
   "source": [
    "from transformers import pipeline\n",
    "import gradio as gr\n",
    "\n",
    "chatbot = pipeline(model=\"facebook/blenderbot-400M-distill\")\n",
    "message_list = []\n",
    "response_list = []\n",
    "\n",
    "def vanilla_chatbot(message, history):\n",
    "    conversation = chatbot(message)\n",
    "    \n",
    "    return conversation[0]['generated_text']\n",
    "\n",
    "demo_chatbot = gr.ChatInterface(vanilla_chatbot, title=\"Vanilla Chatbot\", description=\"Enter text to start chatting.\")\n",
    "demo_chatbot.launch()"
   ],
   "id": "82d18f61a91c201",
   "outputs": [
    {
     "name": "stdout",
     "output_type": "stream",
     "text": [
      "Running on local URL:  http://127.0.0.1:7861\n",
      "\n",
      "To create a public link, set `share=True` in `launch()`.\n"
     ]
    },
    {
     "data": {
      "text/plain": [
       "<IPython.core.display.HTML object>"
      ],
      "text/html": [
       "<div><iframe src=\"http://127.0.0.1:7861/\" width=\"100%\" height=\"500\" allow=\"autoplay; camera; microphone; clipboard-read; clipboard-write;\" frameborder=\"0\" allowfullscreen></iframe></div>"
      ]
     },
     "metadata": {},
     "output_type": "display_data"
    },
    {
     "data": {
      "text/plain": []
     },
     "execution_count": 2,
     "metadata": {},
     "output_type": "execute_result"
    }
   ],
   "execution_count": 2
  },
  {
   "metadata": {},
   "cell_type": "code",
   "outputs": [],
   "execution_count": null,
   "source": "",
   "id": "5d3b6dba1d144f88"
  }
 ],
 "metadata": {
  "kernelspec": {
   "display_name": "Python 3",
   "language": "python",
   "name": "python3"
  },
  "language_info": {
   "codemirror_mode": {
    "name": "ipython",
    "version": 2
   },
   "file_extension": ".py",
   "mimetype": "text/x-python",
   "name": "python",
   "nbconvert_exporter": "python",
   "pygments_lexer": "ipython2",
   "version": "2.7.6"
  }
 },
 "nbformat": 4,
 "nbformat_minor": 5
}
