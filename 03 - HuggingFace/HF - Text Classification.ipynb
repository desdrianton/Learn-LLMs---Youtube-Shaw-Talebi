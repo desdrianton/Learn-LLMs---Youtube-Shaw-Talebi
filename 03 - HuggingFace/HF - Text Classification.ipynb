{
 "cells": [
  {
   "metadata": {},
   "cell_type": "markdown",
   "source": "# Playing with \"text-classification\"",
   "id": "565b36a88ab51f3a"
  },
  {
   "metadata": {
    "ExecuteTime": {
     "end_time": "2024-07-08T07:42:34.000674Z",
     "start_time": "2024-07-08T07:42:27.803418Z"
    }
   },
   "cell_type": "code",
   "source": "from transformers import pipeline",
   "id": "bcce2e3221bc6d39",
   "outputs": [],
   "execution_count": 3
  },
  {
   "metadata": {
    "ExecuteTime": {
     "end_time": "2024-07-08T07:42:36.722490Z",
     "start_time": "2024-07-08T07:42:34.003665Z"
    }
   },
   "cell_type": "code",
   "source": "classifier = pipeline(task=\"text-classification\", model=\"SamLowe/roberta-base-go_emotions\", top_k=None)",
   "id": "c850f327f1eaec55",
   "outputs": [],
   "execution_count": 4
  },
  {
   "metadata": {
    "ExecuteTime": {
     "end_time": "2024-07-08T07:42:36.790607Z",
     "start_time": "2024-07-08T07:42:36.723484Z"
    }
   },
   "cell_type": "code",
   "source": [
    "text_list = [\"This is great\",\n",
    "             \"Thanks for nothing\",\n",
    "             \"You've got to work on your face\",\n",
    "             \"You're beautiful, never change!\"]\n",
    "classifier(text_list[3])"
   ],
   "id": "2314c39f43358394",
   "outputs": [
    {
     "data": {
      "text/plain": [
       "[[{'label': 'admiration', 'score': 0.9503410458564758},\n",
       "  {'label': 'approval', 'score': 0.05362680181860924},\n",
       "  {'label': 'neutral', 'score': 0.016822468489408493},\n",
       "  {'label': 'optimism', 'score': 0.016350731253623962},\n",
       "  {'label': 'realization', 'score': 0.0081086540594697},\n",
       "  {'label': 'gratitude', 'score': 0.006836398504674435},\n",
       "  {'label': 'disapproval', 'score': 0.005897047463804483},\n",
       "  {'label': 'excitement', 'score': 0.005459046922624111},\n",
       "  {'label': 'love', 'score': 0.004673932213336229},\n",
       "  {'label': 'annoyance', 'score': 0.004142884165048599},\n",
       "  {'label': 'disappointment', 'score': 0.0036209886893630028},\n",
       "  {'label': 'joy', 'score': 0.0031430437229573727},\n",
       "  {'label': 'surprise', 'score': 0.003065794473513961},\n",
       "  {'label': 'pride', 'score': 0.003022789489477873},\n",
       "  {'label': 'confusion', 'score': 0.0029010134749114513},\n",
       "  {'label': 'caring', 'score': 0.0028575065080076456},\n",
       "  {'label': 'curiosity', 'score': 0.002813272411003709},\n",
       "  {'label': 'anger', 'score': 0.0017256233841180801},\n",
       "  {'label': 'desire', 'score': 0.001610246254131198},\n",
       "  {'label': 'sadness', 'score': 0.001533038797788322},\n",
       "  {'label': 'amusement', 'score': 0.0014668900985270739},\n",
       "  {'label': 'disgust', 'score': 0.0009622088982723653},\n",
       "  {'label': 'fear', 'score': 0.0007860352052375674},\n",
       "  {'label': 'relief', 'score': 0.0006822502473369241},\n",
       "  {'label': 'remorse', 'score': 0.000376779556972906},\n",
       "  {'label': 'grief', 'score': 0.00036192871630191803},\n",
       "  {'label': 'embarrassment', 'score': 0.00032691541127860546},\n",
       "  {'label': 'nervousness', 'score': 0.0002902009873650968}]]"
      ]
     },
     "execution_count": 5,
     "metadata": {},
     "output_type": "execute_result"
    }
   ],
   "execution_count": 5
  },
  {
   "metadata": {},
   "cell_type": "code",
   "outputs": [],
   "execution_count": null,
   "source": "",
   "id": "430a3418399d53dd"
  }
 ],
 "metadata": {
  "kernelspec": {
   "display_name": "Python 3",
   "language": "python",
   "name": "python3"
  },
  "language_info": {
   "codemirror_mode": {
    "name": "ipython",
    "version": 2
   },
   "file_extension": ".py",
   "mimetype": "text/x-python",
   "name": "python",
   "nbconvert_exporter": "python",
   "pygments_lexer": "ipython2",
   "version": "2.7.6"
  }
 },
 "nbformat": 4,
 "nbformat_minor": 5
}
