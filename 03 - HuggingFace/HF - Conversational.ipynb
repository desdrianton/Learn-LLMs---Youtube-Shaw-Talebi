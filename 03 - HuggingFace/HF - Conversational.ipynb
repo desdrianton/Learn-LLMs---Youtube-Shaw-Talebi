{
 "cells": [
  {
   "metadata": {},
   "cell_type": "markdown",
   "source": "# Playing with \"Conversational\"",
   "id": "81f8b356d84bacfd"
  },
  {
   "metadata": {
    "ExecuteTime": {
     "end_time": "2024-07-08T07:40:08.518277Z",
     "start_time": "2024-07-08T07:40:08.514541Z"
    }
   },
   "cell_type": "code",
   "source": "from transformers import pipeline",
   "id": "bcce2e3221bc6d39",
   "outputs": [],
   "execution_count": 6
  },
  {
   "metadata": {
    "ExecuteTime": {
     "end_time": "2024-07-08T07:40:12.287163Z",
     "start_time": "2024-07-08T07:40:09.339746Z"
    }
   },
   "cell_type": "code",
   "source": "chatbot = pipeline(model=\"facebook/blenderbot-400M-distill\")",
   "id": "b9f5a795f39d60a6",
   "outputs": [],
   "execution_count": 7
  },
  {
   "metadata": {
    "ExecuteTime": {
     "end_time": "2024-07-08T07:40:15.600909Z",
     "start_time": "2024-07-08T07:40:12.287990Z"
    }
   },
   "cell_type": "code",
   "source": [
    "conversation = chatbot(\"Hi I'm Michael, how are you?\")\n",
    "conversation"
   ],
   "id": "2fe85399c03a4dd9",
   "outputs": [
    {
     "data": {
      "text/plain": [
       "[{'generated_text': \" I'm doing well. How are you doing this evening? I just got home from work.\"}]"
      ]
     },
     "execution_count": 8,
     "metadata": {},
     "output_type": "execute_result"
    }
   ],
   "execution_count": 8
  },
  {
   "metadata": {
    "ExecuteTime": {
     "end_time": "2024-07-08T07:40:20.973276Z",
     "start_time": "2024-07-08T07:40:16.883968Z"
    }
   },
   "cell_type": "code",
   "source": [
    "conversation = chatbot(\"what are you talking about?\")\n",
    "conversation"
   ],
   "id": "f393ff1de2cbd8c8",
   "outputs": [
    {
     "data": {
      "text/plain": [
       "[{'generated_text': \" I'm talking about the fact that I'm not sure if I'm going to be able to make it.\"}]"
      ]
     },
     "execution_count": 9,
     "metadata": {},
     "output_type": "execute_result"
    }
   ],
   "execution_count": 9
  }
 ],
 "metadata": {
  "kernelspec": {
   "display_name": "Python 3",
   "language": "python",
   "name": "python3"
  },
  "language_info": {
   "codemirror_mode": {
    "name": "ipython",
    "version": 2
   },
   "file_extension": ".py",
   "mimetype": "text/x-python",
   "name": "python",
   "nbconvert_exporter": "python",
   "pygments_lexer": "ipython2",
   "version": "2.7.6"
  }
 },
 "nbformat": 4,
 "nbformat_minor": 5
}
