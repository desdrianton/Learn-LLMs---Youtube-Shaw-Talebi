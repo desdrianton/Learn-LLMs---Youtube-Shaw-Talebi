{
 "cells": [
  {
   "metadata": {},
   "cell_type": "markdown",
   "source": "# Playing with \"sentiment-analysis\"",
   "id": "227da9ce9ababe4f"
  },
  {
   "metadata": {
    "ExecuteTime": {
     "end_time": "2024-07-08T07:40:24.801783Z",
     "start_time": "2024-07-08T07:40:24.797846Z"
    }
   },
   "cell_type": "code",
   "source": "from transformers import pipeline",
   "id": "bcce2e3221bc6d39",
   "outputs": [],
   "execution_count": 56
  },
  {
   "metadata": {
    "ExecuteTime": {
     "end_time": "2024-07-08T07:40:26.329513Z",
     "start_time": "2024-07-08T07:40:25.595952Z"
    }
   },
   "cell_type": "code",
   "source": [
    "sentiment_analyzer = pipeline(task=\"sentiment-analysis\", model=\"distilbert-base-uncased-finetuned-sst-2-english\")\n",
    "sentiment_analyzer(\"Really hate this!\")"
   ],
   "id": "f71031ab71ab47d",
   "outputs": [
    {
     "data": {
      "text/plain": [
       "[{'label': 'NEGATIVE', 'score': 0.9995378255844116}]"
      ]
     },
     "execution_count": 57,
     "metadata": {},
     "output_type": "execute_result"
    }
   ],
   "execution_count": 57
  },
  {
   "metadata": {
    "ExecuteTime": {
     "end_time": "2024-07-08T07:40:28.481512Z",
     "start_time": "2024-07-08T07:40:28.357625Z"
    }
   },
   "cell_type": "code",
   "source": [
    "text_list = [\"This is great\",\n",
    "             \"Thanks for nothing\",\n",
    "             \"You've got to work on your face\",\n",
    "             \"You're beautiful, never change!\"]\n",
    "sentiment_analyzer(text_list)"
   ],
   "id": "7de85ed87114002a",
   "outputs": [
    {
     "data": {
      "text/plain": [
       "[{'label': 'POSITIVE', 'score': 0.9998785257339478},\n",
       " {'label': 'POSITIVE', 'score': 0.9680058360099792},\n",
       " {'label': 'NEGATIVE', 'score': 0.8776121139526367},\n",
       " {'label': 'POSITIVE', 'score': 0.9998120665550232}]"
      ]
     },
     "execution_count": 58,
     "metadata": {},
     "output_type": "execute_result"
    }
   ],
   "execution_count": 58
  }
 ],
 "metadata": {
  "kernelspec": {
   "display_name": "Python 3",
   "language": "python",
   "name": "python3"
  },
  "language_info": {
   "codemirror_mode": {
    "name": "ipython",
    "version": 2
   },
   "file_extension": ".py",
   "mimetype": "text/x-python",
   "name": "python",
   "nbconvert_exporter": "python",
   "pygments_lexer": "ipython2",
   "version": "2.7.6"
  }
 },
 "nbformat": 4,
 "nbformat_minor": 5
}
