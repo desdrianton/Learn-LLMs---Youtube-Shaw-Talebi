{
 "cells": [
  {
   "metadata": {},
   "cell_type": "markdown",
   "source": "# Playing with \"summarization\"",
   "id": "8fb941add7c7ec7e"
  },
  {
   "metadata": {
    "ExecuteTime": {
     "end_time": "2024-07-08T07:40:33.313328Z",
     "start_time": "2024-07-08T07:40:33.309236Z"
    }
   },
   "cell_type": "code",
   "source": "from transformers import pipeline",
   "id": "bcce2e3221bc6d39",
   "outputs": [],
   "execution_count": 3
  },
  {
   "metadata": {
    "ExecuteTime": {
     "end_time": "2024-07-08T07:40:36.837717Z",
     "start_time": "2024-07-08T07:40:34.029225Z"
    }
   },
   "cell_type": "code",
   "source": "summarizer = pipeline(\"summarization\", model=\"facebook/bart-large-cnn\")",
   "id": "c23c6e9518d77f21",
   "outputs": [],
   "execution_count": 4
  },
  {
   "metadata": {
    "ExecuteTime": {
     "end_time": "2024-07-08T07:40:43.673336Z",
     "start_time": "2024-07-08T07:40:37.736445Z"
    }
   },
   "cell_type": "code",
   "source": [
    "text = \"\"\"\n",
    "Hugging Face is an AI company that has become a major hub for open-source machine learning. \n",
    "Their platform has 3 major elements which allow users to access and share machine learning resources. \n",
    "First, is their rapidly growing repository of pre-trained open-source machine learning models for things such as natural language processing (NLP), computer vision, and more. \n",
    "Second, is their library of datasets for training machine learning models for almost any task. \n",
    "Third, and finally, is Spaces which is a collection of open-source ML apps.\n",
    "\n",
    "The power of these resources is that they are community generated, which leverages all the benefits of open source i.e. cost-free, wide diversity of tools, high quality resources, and rapid pace of innovation. \n",
    "While these make building powerful ML projects more accessible than before, there is another key element of the Hugging Face ecosystem—their Transformers library.\n",
    "\"\"\"\n",
    "summarized_text = summarizer(text, min_length=5, max_length=140)[0]['summary_text']"
   ],
   "id": "5c514342b286d5f9",
   "outputs": [],
   "execution_count": 5
  },
  {
   "metadata": {
    "ExecuteTime": {
     "end_time": "2024-07-08T07:40:44.778445Z",
     "start_time": "2024-07-08T07:40:44.771467Z"
    }
   },
   "cell_type": "code",
   "source": "summarized_text",
   "id": "1aa45f35dd541c41",
   "outputs": [
    {
     "data": {
      "text/plain": [
       "'Hugging Face is an AI company that has become a major hub for open-source machine learning. They have 3 major elements which allow users to access and share machine learning resources.'"
      ]
     },
     "execution_count": 6,
     "metadata": {},
     "output_type": "execute_result"
    }
   ],
   "execution_count": 6
  },
  {
   "metadata": {
    "ExecuteTime": {
     "end_time": "2024-07-08T07:40:54.019122Z",
     "start_time": "2024-07-08T07:40:45.846358Z"
    }
   },
   "cell_type": "code",
   "source": [
    "text = \"\"\"\n",
    "Artis Amel Carla belakangan diledek aura maghrib. Ia lalu merespons terkait hal tersebut. Menurut Amel, ledekan agama perlu dihindari. Sebab ia takut menyinggung SARA. \"Kalau berbau agama alangkah baiknya jangan dijadiin bercandaan aura maghrib gelap gitu ah, maghrib itu santai nggak sih. Makanya yang berbau SARA mending nggak usah,\" ujarnya ditemui di Studio Trans TV, kemarin.\n",
    "\"\"\"\n",
    "summarized_text = summarizer(text, min_length=5, max_length=140)[0]['summary_text']"
   ],
   "id": "bbb954632594e9cf",
   "outputs": [],
   "execution_count": 7
  },
  {
   "metadata": {
    "ExecuteTime": {
     "end_time": "2024-07-08T07:40:54.030175Z",
     "start_time": "2024-07-08T07:40:54.022119Z"
    }
   },
   "cell_type": "code",
   "source": "summarized_text",
   "id": "4334bdd30d7d7ad1",
   "outputs": [
    {
     "data": {
      "text/plain": [
       "'Artis Amel Carla belakangan diledek aura maghrib. Menurut Amel, ledekan agama perlu dihindari. Sebab ia takut menyinggung SARA.'"
      ]
     },
     "execution_count": 8,
     "metadata": {},
     "output_type": "execute_result"
    }
   ],
   "execution_count": 8
  },
  {
   "metadata": {
    "ExecuteTime": {
     "end_time": "2024-07-08T07:41:02.695480Z",
     "start_time": "2024-07-08T07:40:56.537493Z"
    }
   },
   "cell_type": "code",
   "source": [
    "text = \"\"\"\n",
    "OUR VISION is To be a leading provider of Digital Talent in Asia.\n",
    "We established at 2012. With experience in several industry sectors, a broad portfolio and technology platform as well as bringing a dedicated and highly qualified team, enabling the talent we provide to provide fast and responsive services, making it the best choice for companies that want to increase the usability of their businesses.\n",
    "\n",
    "Why Choose Us? Here are just a few reason to choose Pro Sigmaka for all of your digital talent needs, Professional Team Support, Wide range of technology skills, Best Services.\n",
    "\"\"\"\n",
    "summarized_text = summarizer(text, min_length=5, max_length=140)[0]['summary_text']"
   ],
   "id": "55c662008b275b5a",
   "outputs": [
    {
     "name": "stderr",
     "output_type": "stream",
     "text": [
      "Your max_length is set to 140, but your input_length is only 118. Since this is a summarization task, where outputs shorter than the input are typically wanted, you might consider decreasing max_length manually, e.g. summarizer('...', max_length=59)\n"
     ]
    }
   ],
   "execution_count": 9
  },
  {
   "metadata": {
    "ExecuteTime": {
     "end_time": "2024-07-08T07:41:05.474005Z",
     "start_time": "2024-07-08T07:41:05.468983Z"
    }
   },
   "cell_type": "code",
   "source": "summarized_text",
   "id": "2f62ba139525e947",
   "outputs": [
    {
     "data": {
      "text/plain": [
       "'Pro Sigmaka is a leading provider of Digital Talent in Asia. With experience in several industry sectors, a broad portfolio and technology platform as well as bringing a dedicated and highly qualified team.'"
      ]
     },
     "execution_count": 10,
     "metadata": {},
     "output_type": "execute_result"
    }
   ],
   "execution_count": 10
  },
  {
   "metadata": {
    "ExecuteTime": {
     "end_time": "2024-07-08T07:41:16.828807Z",
     "start_time": "2024-07-08T07:41:06.571418Z"
    }
   },
   "cell_type": "code",
   "source": [
    "text = \"\"\"\n",
    "Hari ini keluarga kami mengantar anak kami ke bandara. Ini adalah pengalaman pertama anak kami untuk naik pesawat sendirian. Awalnya berjalan tegang. Tapi alhamdulillah ada petugas yang membantu anak kami untuk naik pesawat. Alhamdulillah sekarang anak kami sudah sampai di tujuan, di kota Malang\n",
    "\"\"\"\n",
    "summarized_text = summarizer(text, min_length=5, max_length=140)[0]['summary_text']\n"
   ],
   "id": "15b38b3db5c4a113",
   "outputs": [
    {
     "name": "stderr",
     "output_type": "stream",
     "text": [
      "Your max_length is set to 140, but your input_length is only 123. Since this is a summarization task, where outputs shorter than the input are typically wanted, you might consider decreasing max_length manually, e.g. summarizer('...', max_length=61)\n"
     ]
    }
   ],
   "execution_count": 11
  },
  {
   "metadata": {
    "ExecuteTime": {
     "end_time": "2024-07-08T07:41:18.933832Z",
     "start_time": "2024-07-08T07:41:18.928335Z"
    }
   },
   "cell_type": "code",
   "source": "summarized_text",
   "id": "928eb2345ca1807b",
   "outputs": [
    {
     "data": {
      "text/plain": [
       "'Ini adalah pengalaman pertama anak kami untuk naik pesawat sendirian. Awalnya berjalan tegang. Alhamdulillah sekarang anakKami sudah sampai di tujuan, di kota Malang.'"
      ]
     },
     "execution_count": 12,
     "metadata": {},
     "output_type": "execute_result"
    }
   ],
   "execution_count": 12
  },
  {
   "metadata": {
    "ExecuteTime": {
     "end_time": "2024-07-08T07:41:53.239240Z",
     "start_time": "2024-07-08T07:41:19.836373Z"
    }
   },
   "cell_type": "code",
   "source": [
    "text = \"\"\"\n",
    "Pada suatu hari si kancil bertemu dengan harimau ketika sedang bermain di pegunungan. Tanpa ragu, sang harimau mengira si kancil akan bisa menjadi makan siangnya yang lezat. Namun, si Kancil rupanya telah melihat penampakan Harimau dan berpura-pura tenang sembari berkata, “Harimau, kamu sangat tampan. Kepala, wajah, tubuh, dan kaki kamu semuanya begitu sempurna dan tidak ada tandingannya di hutan ini. Sayangnya, ekormu sangat jelek sehingga tidak bisa mengimbangi kehebatanmu yang lain itu.” Harimau termakan hasutan si kancil dan merasa ucapannya tadi benar, jadi dia bertanya kepada kancil, \"Bagaimana aku bisa membuat ekorku menjadi indah?\" Kancil kemudian melihat sekeliling ekor harimau, seolah-olah sedang memeriksanya, dan memberitahu sang harimau, \"Kalau kamu bisa membuatnya lurus, ekormu pasti akan terlihat sangat indah.\" “Jadi bagaimana cara aku bisa meluruskannya?” Tanya harimau. “Hmm, sebenarnya tidak terlalu sulit. Saya hanya tidak yakin apakah kamu akan berani melakukannya atau tidak,” “Tidak ada yang aku takutkan,” kata sang harimau yang berencana ingin meluruskan ekornya terlebih dahulu sebelum ia memakan si kancil. Lalu, dia mendesak kancil, “Cepat! Bantu aku meluruskan ekorku!” Kancil mengumpulkan sembilan ikat jarum pinus dengan cepat, lalu mengikat ekor harimau ke pohon sambil membakar jarum pinus tadi. Harimau merasa kepanasan karena harus menahan api. Walhasil, rambut di sekujur tubuhnya malah terbakar habis. Harimau pun marah, “Kamu benar-benar Kancil yang bodoh! Ekorku memang terlihat lurus, tetapi kamu telah membakar pakaianku. Aku tidak akan memaafkanmu!\" Alih-alih ketakutan, si kancil dengan tenang menjawab, \"Jangan khawatir. Aku akan memberimu yang baru,\" “Kau telah membodohi aku,” lanjut harimau. \"Aku serius. Namun, kamu sebaiknya mencuci tubuh kamu sampai bersih sebelum kamu mengenakan pakaian baru,” \"Di mana letak airnya?\" \"Di sana,\" harimau yang sudah terbakar dan terluka parah merasa tidak sabar untuk mengikuti kancil menemukan air. Namun, malang bagi harimau, si kancil malah menggiringnya ke area di mana para buaya yang sedang lapar telah menunggu. Para buaya ini langsung menerkam harimau yang kini tidak memiliki rambut dan telah terluka parah. Harimau mempercayai kata-kata dari kancil dan menjatuhkan martabat dan kedudukannya sendiri. Akibat keputusannya yang salah, tidak hanya ia gagal mendapatkan Kancil sebagai makan siangnya, tetapi juga telah harus menutup riwayat kehidupannya dengan cara yang malang.\n",
    "\"\"\"\n",
    "\n",
    "summarized_text = summarizer(text, min_length=100, max_length=300)[0]['summary_text']"
   ],
   "id": "d179cf4dd8b40142",
   "outputs": [],
   "execution_count": 13
  },
  {
   "metadata": {
    "ExecuteTime": {
     "end_time": "2024-07-08T07:41:53.249741Z",
     "start_time": "2024-07-08T07:41:53.242236Z"
    }
   },
   "cell_type": "code",
   "source": "summarized_text",
   "id": "f02e8d33508e17d4",
   "outputs": [
    {
     "data": {
      "text/plain": [
       "'Pada suatu hari si kancil bertemu dengan harimau ketika sedang bermain di pegunungan. Namun, si Kancil rupanya telah melihat penampakan Harimau dan berpura-pura tenang. Kepala, wajah, tubuh, dan kaki kamu semuanya begitu sempurna dan tidak ada tandingannya di hutan ini. Sayangnya, ekormu sangat jelek sehingga tidak bisa mengimbangi kehebatanmu yang lain itu.'"
      ]
     },
     "execution_count": 14,
     "metadata": {},
     "output_type": "execute_result"
    }
   ],
   "execution_count": 14
  }
 ],
 "metadata": {
  "kernelspec": {
   "display_name": "Python 3",
   "language": "python",
   "name": "python3"
  },
  "language_info": {
   "codemirror_mode": {
    "name": "ipython",
    "version": 2
   },
   "file_extension": ".py",
   "mimetype": "text/x-python",
   "name": "python",
   "nbconvert_exporter": "python",
   "pygments_lexer": "ipython2",
   "version": "2.7.6"
  }
 },
 "nbformat": 4,
 "nbformat_minor": 5
}
